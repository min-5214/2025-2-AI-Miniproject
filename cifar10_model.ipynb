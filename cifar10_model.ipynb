{
 "cells": [
  {
   "cell_type": "code",
   "execution_count": 1,
   "id": "d54d9ee8",
   "metadata": {},
   "outputs": [],
   "source": [
    "#used anaconda 3.12.3\n",
    "import torch\n",
    "import torch.nn as nn\n",
    "import torch.nn.functional as F\n",
    "import torch.optim as optim\n",
    "from torchvision import datasets, transforms\n",
    "from torch.utils.data import DataLoader\n",
    "\n",
    "from model import SimpleCNN, train, test"
   ]
  },
  {
   "cell_type": "markdown",
   "id": "3ac2414c",
   "metadata": {},
   "source": [
    "1. BASELINE MODEL\n",
    "\n",
    "    First prepare our data by importing the CIFAR-10 database as both the traning and testing datasets."
   ]
  },
  {
   "cell_type": "code",
   "execution_count": 2,
   "id": "73553910",
   "metadata": {},
   "outputs": [
    {
     "name": "stdout",
     "output_type": "stream",
     "text": [
      "Files already downloaded and verified\n",
      "Files already downloaded and verified\n"
     ]
    }
   ],
   "source": [
    "# 2. Data Preparation\n",
    "transform = transforms.Compose([transforms.ToTensor(),\n",
    "                                transforms.Normalize(mean=[0.4914, 0.4822, 0.4465],\n",
    "                                std=[0.247, 0.243, 0.261])])\n",
    "\n",
    "train_dataset = datasets.CIFAR10(root='./data', train=True, download=True, transform=transform)\n",
    "test_dataset  = datasets.CIFAR10(root='./data', train=False, download=True, transform=transform)\n",
    "\n",
    "train_loader = DataLoader(train_dataset, batch_size=64, shuffle=True)\n",
    "test_loader  = DataLoader(test_dataset, batch_size=1000, shuffle=False)"
   ]
  },
  {
   "cell_type": "markdown",
   "id": "4d181272",
   "metadata": {},
   "source": [
    "We will then use our CNN model defined in model.py where we train the model, test its accuracy then reiterate for 10 epochs."
   ]
  },
  {
   "cell_type": "code",
   "execution_count": 3,
   "id": "36ce57af",
   "metadata": {},
   "outputs": [
    {
     "name": "stdout",
     "output_type": "stream",
     "text": [
      "Epoch 0: Test Accuracy = 0.6542\n",
      "Epoch 1: Test Accuracy = 0.7109\n",
      "Epoch 2: Test Accuracy = 0.7363\n",
      "Epoch 3: Test Accuracy = 0.7357\n",
      "Epoch 4: Test Accuracy = 0.7303\n"
     ]
    }
   ],
   "source": [
    "device = torch.device(\"cuda\" if torch.cuda.is_available() else \"cpu\")\n",
    "model = SimpleCNN().to(device)\n",
    "optimizer = optim.Adam(model.parameters(), lr=0.001)\n",
    "criterion = nn.CrossEntropyLoss()\n",
    "\n",
    "for epoch in range(5):  # You can increase to 20 for better performance\n",
    "    train(model, device, train_loader, optimizer, criterion)\n",
    "    acc = test(model, device, test_loader)\n",
    "    print(f\"Epoch {epoch}: Test Accuracy = {acc:.4f}\")    "
   ]
  }
 ],
 "metadata": {
  "kernelspec": {
   "display_name": "base",
   "language": "python",
   "name": "python3"
  },
  "language_info": {
   "codemirror_mode": {
    "name": "ipython",
    "version": 3
   },
   "file_extension": ".py",
   "mimetype": "text/x-python",
   "name": "python",
   "nbconvert_exporter": "python",
   "pygments_lexer": "ipython3",
   "version": "3.12.3"
  }
 },
 "nbformat": 4,
 "nbformat_minor": 5
}
